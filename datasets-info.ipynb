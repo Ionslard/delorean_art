{
 "cells": [
  {
   "cell_type": "markdown",
   "id": "aa39aa9f",
   "metadata": {},
   "source": [
    "## Base de donnée du patrimoine de l'état"
   ]
  },
  {
   "cell_type": "markdown",
   "id": "a2f5efff",
   "metadata": {},
   "source": [
    "https://pop.culture.gouv.fr/search/list\n",
    "\n",
    "Grosse base de donnée très complète, possibilité de télecharger à la mano les images, les informations sont contenues sur la page explicative.\n",
    "\n",
    "Les filtres sont assez limités donc naviguer dans la base de donnée peut être fastidieux"
   ]
  },
  {
   "cell_type": "code",
   "execution_count": null,
   "id": "b7c4018c",
   "metadata": {},
   "outputs": [],
   "source": []
  }
 ],
 "metadata": {
  "kernelspec": {
   "display_name": "Python delorean_art",
   "language": "python",
   "name": "ionslard"
  },
  "language_info": {
   "codemirror_mode": {
    "name": "ipython",
    "version": 3
   },
   "file_extension": ".py",
   "mimetype": "text/x-python",
   "name": "python",
   "nbconvert_exporter": "python",
   "pygments_lexer": "ipython3",
   "version": "3.10.6"
  },
  "toc": {
   "base_numbering": 1,
   "nav_menu": {},
   "number_sections": true,
   "sideBar": true,
   "skip_h1_title": false,
   "title_cell": "Table of Contents",
   "title_sidebar": "Contents",
   "toc_cell": false,
   "toc_position": {},
   "toc_section_display": true,
   "toc_window_display": false
  }
 },
 "nbformat": 4,
 "nbformat_minor": 5
}
