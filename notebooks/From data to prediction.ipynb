{
 "cells": [
  {
   "cell_type": "code",
   "execution_count": 2,
   "id": "d917cd8e",
   "metadata": {},
   "outputs": [
    {
     "ename": "ModuleNotFoundError",
     "evalue": "No module named 'dlib'",
     "output_type": "error",
     "traceback": [
      "\u001b[0;31m---------------------------------------------------------------------------\u001b[0m",
      "\u001b[0;31mModuleNotFoundError\u001b[0m                       Traceback (most recent call last)",
      "Cell \u001b[0;32mIn[2], line 2\u001b[0m\n\u001b[1;32m      1\u001b[0m \u001b[38;5;28;01mimport\u001b[39;00m\u001b[38;5;250m \u001b[39m\u001b[38;5;21;01mcv2\u001b[39;00m\n\u001b[0;32m----> 2\u001b[0m \u001b[38;5;28;01mimport\u001b[39;00m\u001b[38;5;250m \u001b[39m\u001b[38;5;21;01mdlib\u001b[39;00m\n",
      "\u001b[0;31mModuleNotFoundError\u001b[0m: No module named 'dlib'"
     ]
    }
   ],
   "source": [
    "import cv2\n",
    "import dlib"
   ]
  },
  {
   "cell_type": "code",
   "execution_count": null,
   "id": "73aef9bf",
   "metadata": {},
   "outputs": [],
   "source": [
    "\n",
    "def detect_face_dlib(image_path):\n",
    "    # Charger le détecteur de visages de Dlib\n",
    "    detector = dlib.get_frontal_face_detector()\n",
    "    \n",
    "    # Charger l'image\n",
    "    image = cv2.imread(image_path)\n",
    "    gray = cv2.cvtColor(image, cv2.COLOR_BGR2GRAY)  # Convertir en niveaux de gris\n",
    "    \n",
    "    # Détecter les visages\n",
    "    faces = detector(gray)\n",
    "    \n",
    "    # Dessiner des bounding boxes autour des visages détectés\n",
    "    for face in faces:\n",
    "        x, y, w, h = face.left(), face.top(), face.width(), face.height()\n",
    "        cv2.rectangle(image, (x, y), (x + w, y + h), (0, 255, 0), 3)\n",
    "    \n",
    "    # Afficher l'image avec les bounding boxes\n",
    "    cv2.imshow('Detected Face', image)\n",
    "    cv2.waitKey(0)\n",
    "    cv2.destroyAllWindows()\n",
    "    "
   ]
  },
  {
   "cell_type": "code",
   "execution_count": null,
   "id": "f299ecf9",
   "metadata": {},
   "outputs": [],
   "source": [
    "# Utilisation\n",
    "image_path = \"../raw_data/photo_test_set/etienne.jpg\" # Remplace par le chemin de ton image\n",
    "\n",
    "# Lancer la détection\n",
    "detect_face_dlib(image_path)\n"
   ]
  },
  {
   "cell_type": "code",
   "execution_count": null,
   "id": "7bd814a6",
   "metadata": {},
   "outputs": [],
   "source": [
    "def detect_face_dlib(image_path):\n",
    "    # Charger le détecteur de visages de Dlib\n",
    "    detector = dlib.get_frontal_face_detector()\n",
    "\n",
    "    # Charger l'image\n",
    "    image = cv2.imread(image_path)\n",
    "\n",
    "    # Vérifier si l'image a bien été chargée\n",
    "    if image is None:\n",
    "        print(f\"❌ Erreur : Impossible de charger l'image à {image_path}\")\n",
    "        return\n",
    "\n",
    "    print(f\"✅ Image chargée avec succès. Dimensions : {image.shape} | Type : {image.dtype}\")\n",
    "\n",
    "    # Convertir en niveaux de gris\n",
    "    gray = cv2.cvtColor(image, cv2.COLOR_BGR2GRAY)\n",
    "\n",
    "    # Vérifier les caractéristiques de l'image\n",
    "    print(f\"ℹ️ Image convertie en niveaux de gris. Dimensions : {gray.shape} | Type : {gray.dtype}\")\n",
    "\n",
    "    # Vérifier si l'image est bien au format 8 bits\n",
    "    if gray.dtype != np.uint8:\n",
    "        print(\"❌ Erreur : L'image n'est pas au format 8-bit (uint8).\")\n",
    "        return\n",
    "\n",
    "    # Détecter les visages\n",
    "    faces = detector(gray)\n",
    "\n",
    "    # Afficher le nombre de visages détectés\n",
    "    print(f\"👀 {len(faces)} visage(s) détecté(s).\")\n",
    "\n",
    "    # Dessiner des bounding boxes\n",
    "    for face in faces:\n",
    "        x, y, w, h = face.left(), face.top(), face.right() - face.left(), face.bottom() - face.top()\n",
    "        cv2.rectangle(image, (x, y), (x + w, y + h), (0, 255, 0), 3)\n",
    "\n",
    "    # Afficher l'image\n",
    "    cv2.imshow('Detected Face', image)\n",
    "    cv2.waitKey(0)\n",
    "    cv2.destroyAllWindows()\n",
    "\n",
    "# Utilisation\n",
    "image_path = \"../raw_data/photo_test_set/etienne.jpg\"\n",
    "detect_face_dlib(image_path)"
   ]
  }
 ],
 "metadata": {
  "kernelspec": {
   "display_name": "Python delorean_art",
   "language": "python",
   "name": "ionslard"
  },
  "language_info": {
   "codemirror_mode": {
    "name": "ipython",
    "version": 3
   },
   "file_extension": ".py",
   "mimetype": "text/x-python",
   "name": "python",
   "nbconvert_exporter": "python",
   "pygments_lexer": "ipython3",
   "version": "3.10.6"
  },
  "toc": {
   "base_numbering": 1,
   "nav_menu": {},
   "number_sections": true,
   "sideBar": true,
   "skip_h1_title": false,
   "title_cell": "Table of Contents",
   "title_sidebar": "Contents",
   "toc_cell": false,
   "toc_position": {},
   "toc_section_display": true,
   "toc_window_display": false
  }
 },
 "nbformat": 4,
 "nbformat_minor": 5
}
